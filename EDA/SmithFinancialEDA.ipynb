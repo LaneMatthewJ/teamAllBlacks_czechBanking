{
 "cells": [
  {
   "cell_type": "markdown",
   "metadata": {},
   "source": [
    "# Financial Data Analysis\n",
    "Benjamin Smith 10/23/20"
   ]
  },
  {
   "cell_type": "markdown",
   "metadata": {},
   "source": [
    "The first step to analyze the data set provided was to import the financial.db file into a data frame for each of the eight tables in the database. Doing so will start to identify how tables are related and help to understand the Guide to the data set. "
   ]
  },
  {
   "cell_type": "code",
   "execution_count": 1,
   "metadata": {},
   "outputs": [],
   "source": [
    "import pandas as pd\n",
    "import sqlite3\n",
    "import matplotlib.pyplot as plt\n",
    "conn = sqlite3.connect(\"./desktop/utk/dse511/financial.db\")"
   ]
  },
  {
   "cell_type": "code",
   "execution_count": 2,
   "metadata": {
    "scrolled": true
   },
   "outputs": [
    {
     "name": "stdout",
     "output_type": "stream",
     "text": [
      "      account_id  district_id         frequency        date\n",
      "0              1           18  POPLATEK MESICNE  1995-03-24\n",
      "1              2            1  POPLATEK MESICNE  1993-02-26\n",
      "2              3            5  POPLATEK MESICNE  1997-07-07\n",
      "3              4           12  POPLATEK MESICNE  1996-02-21\n",
      "4              5           15  POPLATEK MESICNE  1997-05-30\n",
      "...          ...          ...               ...         ...\n",
      "4495       11333            8  POPLATEK MESICNE  1994-05-26\n",
      "4496       11349            1    POPLATEK TYDNE  1995-05-26\n",
      "4497       11359           61  POPLATEK MESICNE  1994-10-01\n",
      "4498       11362           67  POPLATEK MESICNE  1995-10-14\n",
      "4499       11382           74  POPLATEK MESICNE  1995-08-20\n",
      "\n",
      "[4500 rows x 4 columns]\n"
     ]
    }
   ],
   "source": [
    "#Account\n",
    "df = pd.read_sql_query(\"SELECT * from account ORDER by account_id\", conn)\n",
    "print(df);"
   ]
  },
  {
   "cell_type": "code",
   "execution_count": 3,
   "metadata": {},
   "outputs": [
    {
     "name": "stdout",
     "output_type": "stream",
     "text": [
      "      client_id gender  birth_date  district_id\n",
      "0             1      F  1970-12-13           18\n",
      "1             2      M  1945-02-04            1\n",
      "2             3      F  1940-10-09            1\n",
      "3             4      M  1956-12-01            5\n",
      "4             5      F  1960-07-03            5\n",
      "...         ...    ...         ...          ...\n",
      "5364      13955      F  1945-10-30            1\n",
      "5365      13956      M  1943-04-06            1\n",
      "5366      13968      M  1968-04-13           61\n",
      "5367      13971      F  1962-10-19           67\n",
      "5368      13998      F  1953-08-12           74\n",
      "\n",
      "[5369 rows x 4 columns]\n"
     ]
    }
   ],
   "source": [
    "#Client\n",
    "df = pd.read_sql_query(\"SELECT * from client\", conn)\n",
    "print(df);"
   ]
  },
  {
   "cell_type": "code",
   "execution_count": 4,
   "metadata": {},
   "outputs": [
    {
     "name": "stdout",
     "output_type": "stream",
     "text": [
      "      disp_id  client_id  account_id       type\n",
      "0           1          1           1      OWNER\n",
      "1           2          2           2      OWNER\n",
      "2           3          3           2  DISPONENT\n",
      "3           4          4           3      OWNER\n",
      "4           5          5           3  DISPONENT\n",
      "...       ...        ...         ...        ...\n",
      "5364    13647      13955       11349      OWNER\n",
      "5365    13648      13956       11349  DISPONENT\n",
      "5366    13660      13968       11359      OWNER\n",
      "5367    13663      13971       11362      OWNER\n",
      "5368    13690      13998       11382      OWNER\n",
      "\n",
      "[5369 rows x 4 columns]\n"
     ]
    }
   ],
   "source": [
    "#Disposition\n",
    "df = pd.read_sql_query(\"SELECT * from disp\", conn)\n",
    "print(df);"
   ]
  },
  {
   "cell_type": "markdown",
   "metadata": {},
   "source": [
    "The first three tables are related as described in the Guide. These dataframes confirm how the desposition data table (disp) is a combination of the client and account information. Each account can have multiple clients associated but only one loan and district_id."
   ]
  },
  {
   "cell_type": "code",
   "execution_count": 5,
   "metadata": {},
   "outputs": [
    {
     "name": "stdout",
     "output_type": "stream",
     "text": [
      "     card_id  disp_id     type      issued\n",
      "0          1        9     gold  1998-10-16\n",
      "1          2       19  classic  1998-03-13\n",
      "2          3       41     gold  1995-09-03\n",
      "3          4       42  classic  1998-11-26\n",
      "4          5       51   junior  1995-04-24\n",
      "..       ...      ...      ...         ...\n",
      "887     1230    13312  classic  1998-03-08\n",
      "888     1233    13382  classic  1996-07-06\n",
      "889     1234    13386  classic  1997-11-28\n",
      "890     1239    13442   junior  1998-02-02\n",
      "891     1247    13660  classic  1995-06-13\n",
      "\n",
      "[892 rows x 4 columns]\n"
     ]
    }
   ],
   "source": [
    "#Credit Card\n",
    "df = pd.read_sql_query(\"SELECT * from card\", conn)\n",
    "print(df);"
   ]
  },
  {
   "cell_type": "code",
   "execution_count": 6,
   "metadata": {
    "scrolled": false
   },
   "outputs": [
    {
     "name": "stdout",
     "output_type": "stream",
     "text": [
      "     loan_id  account_id        date  amount  duration  payments status\n",
      "0       4959           2  1994-01-05   80952        24      3373      A\n",
      "1       4961          19  1996-04-29   30276        12      2523      B\n",
      "2       4962          25  1997-12-08   30276        12      2523      A\n",
      "3       4967          37  1998-10-14  318480        60      5308      D\n",
      "4       4968          38  1998-04-19  110736        48      2307      C\n",
      "..       ...         ...         ...     ...       ...       ...    ...\n",
      "677     7294       11327  1998-09-27   39168        24      1632      C\n",
      "678     7295       11328  1998-07-18  280440        60      4674      C\n",
      "679     7304       11349  1995-10-29  419880        60      6998      C\n",
      "680     7305       11359  1996-08-06   54024        12      4502      A\n",
      "681     7308       11362  1996-12-27  129408        24      5392      A\n",
      "\n",
      "[682 rows x 7 columns]\n"
     ]
    }
   ],
   "source": [
    "#Loan\n",
    "df = pd.read_sql_query(\"SELECT * from loan\", conn)\n",
    "print(df);"
   ]
  },
  {
   "cell_type": "markdown",
   "metadata": {},
   "source": [
    "These two tables describe if a particular account has a loan or if a particular client has a credit card. The different titles indicate the diference in the association with a loan vs credit card as a loan goes to an account while a credit card goes ultimately to an individual client. These two services each have a sort of rating system with the credit card type and loan status which we can use to differientate the clients quality. "
   ]
  },
  {
   "cell_type": "code",
   "execution_count": 7,
   "metadata": {
    "scrolled": true
   },
   "outputs": [
    {
     "name": "stdout",
     "output_type": "stream",
     "text": [
      "      order_id  account_id bank_to  account_to  amount  k_symbol\n",
      "0        29401           1      YZ    87144583  2452.0      SIPO\n",
      "1        29402           2      ST    89597016  3372.7      UVER\n",
      "2        29403           2      QR    13943797  7266.0      SIPO\n",
      "3        29404           3      WX    83084338  1135.0      SIPO\n",
      "4        29405           3      CD    24485939   327.0          \n",
      "...        ...         ...     ...         ...     ...       ...\n",
      "6466     46334       11362      YZ    70641225  4780.0      SIPO\n",
      "6467     46335       11362      MN    78507822    56.0          \n",
      "6468     46336       11362      ST    40799850   330.0  POJISTNE\n",
      "6469     46337       11362      KL    20009470   129.0          \n",
      "6470     46338       11362      MN    61540514  5392.0      UVER\n",
      "\n",
      "[6471 rows x 6 columns]\n"
     ]
    }
   ],
   "source": [
    "#Ordered Payments\n",
    "df = pd.read_sql_query(\"SELECT * from 'order'\", conn)\n",
    "print(df);"
   ]
  },
  {
   "cell_type": "code",
   "execution_count": 8,
   "metadata": {
    "scrolled": false
   },
   "outputs": [
    {
     "name": "stdout",
     "output_type": "stream",
     "text": [
      "         trans_id  account_id        date    type      operation  amount  \\\n",
      "0               1           1  1995-03-24  PRIJEM          VKLAD    1000   \n",
      "1               5           1  1995-04-13  PRIJEM  PREVOD Z UCTU    3679   \n",
      "2               6           1  1995-05-13  PRIJEM  PREVOD Z UCTU    3679   \n",
      "3               7           1  1995-06-13  PRIJEM  PREVOD Z UCTU    3679   \n",
      "4               8           1  1995-07-13  PRIJEM  PREVOD Z UCTU    3679   \n",
      "...           ...         ...         ...     ...            ...     ...   \n",
      "1056315   3682983       10451  1998-08-31  PRIJEM           None      62   \n",
      "1056316   3682984       10451  1998-09-30  PRIJEM           None      49   \n",
      "1056317   3682985       10451  1998-10-31  PRIJEM           None      34   \n",
      "1056318   3682986       10451  1998-11-30  PRIJEM           None      26   \n",
      "1056319   3682987       10451  1998-12-31  PRIJEM           None      42   \n",
      "\n",
      "         balance k_symbol  bank     account  \n",
      "0           1000     None  None         NaN  \n",
      "1           4679     None    AB  41403269.0  \n",
      "2          20977     None    AB  41403269.0  \n",
      "3          26835     None    AB  41403269.0  \n",
      "4          30415     None    AB  41403269.0  \n",
      "...          ...      ...   ...         ...  \n",
      "1056315    17300     UROK  None         NaN  \n",
      "1056316    13442     UROK  None         NaN  \n",
      "1056317    10118     UROK  None         NaN  \n",
      "1056318     8398     UROK  None         NaN  \n",
      "1056319    13695     UROK  None         NaN  \n",
      "\n",
      "[1056320 rows x 10 columns]\n"
     ]
    }
   ],
   "source": [
    "#Transactions\n",
    "df = pd.read_sql_query(\"SELECT * from trans\", conn)\n",
    "print(df);"
   ]
  },
  {
   "cell_type": "markdown",
   "metadata": {},
   "source": [
    "These two preceding dataframes provide infomation of all transactions and ordered payments of each of the accounts in the database. Obviously, these are the largest tables because each account can have many transactions and payments."
   ]
  },
  {
   "cell_type": "code",
   "execution_count": 9,
   "metadata": {
    "scrolled": true
   },
   "outputs": [
    {
     "name": "stdout",
     "output_type": "stream",
     "text": [
      "    district_id               A2               A3       A4  A5  A6  A7  A8  \\\n",
      "0             1      Hl.m. Praha           Prague  1204953   0   0   0   1   \n",
      "1            54     Brno - mesto    south Moravia   387570   0   0   0   1   \n",
      "2            74  Ostrava - mesto    north Moravia   323870   0   0   0   1   \n",
      "3            70          Karvina    north Moravia   285387   0   2   8   5   \n",
      "4            68  Frydek - Mistek    north Moravia   228848  15  40  18   2   \n",
      "..          ...              ...              ...      ...  ..  ..  ..  ..   \n",
      "72           13         Rakovnik  central Bohemia    53921  61  22   1   1   \n",
      "73           19       Prachatice    south Bohemia    51428  50  11   3   1   \n",
      "74           31           Tachov     west Bohemia    51313  34  12   3   1   \n",
      "75           29         Rokycany     west Bohemia    45714  52  10   5   1   \n",
      "76           69          Jesenik    north Moravia    42821   4  13   5   1   \n",
      "\n",
      "    A9    A10    A11  A12   A13  A14      A15    A16  \n",
      "0    1  100.0  12541  0.2  0.43  167  85677.0  99107  \n",
      "1    1  100.0   9897  1.6  1.96  140  18721.0  18696  \n",
      "2    1  100.0  10673  4.7  5.44  100  18782.0  18347  \n",
      "3    7   89.9  10177  6.6  7.75   81   9878.0  10108  \n",
      "4    6   57.2   9893  4.0  4.72   96   5623.0   5887  \n",
      "..  ..    ...    ...  ...   ...  ...      ...    ...  \n",
      "72   2   41.3   8598  2.7  3.26  123   1597.0   1875  \n",
      "73   4   52.7   8402  3.1  3.98  120    999.0   1099  \n",
      "74   4   59.2   8930  3.5  4.20  108   1328.0   1452  \n",
      "75   6   55.6   8843  2.8  3.60  113    818.0    888  \n",
      "76   3   48.4   8173  NaN  7.01  124      NaN   1358  \n",
      "\n",
      "[77 rows x 16 columns]\n"
     ]
    }
   ],
   "source": [
    "#Disctrict Demographics\n",
    "df = pd.read_sql_query(\"SELECT * from district ORDER by A4 DESC\", conn)\n",
    "print(df);"
   ]
  },
  {
   "cell_type": "markdown",
   "metadata": {},
   "source": [
    "Here is a description of the demographics of the 77 disctricts which these clients live. We can use this data to see which areas are more wealthy to segment the clients while knowing the standards of living in each district. The first step of analysis will be to indentify some problematic disctricts to see if the demographics translate to poor clients."
   ]
  },
  {
   "cell_type": "code",
   "execution_count": 10,
   "metadata": {},
   "outputs": [
    {
     "name": "stdout",
     "output_type": "stream",
     "text": [
      "        Salary  AvgUNE95  AvgUNE96\n",
      "0  9031.675325  3.072368  3.787013\n"
     ]
    }
   ],
   "source": [
    "#Selected average district info\n",
    "query = \"SELECT AVG(A11) as Salary, AVG(A12)as AvgUNE95, AVG(A13) as AvgUNE96 FROM district\"\n",
    "df = pd.read_sql_query(query,conn)\n",
    "print(df);"
   ]
  },
  {
   "cell_type": "markdown",
   "metadata": {},
   "source": [
    "We can quickly find the average salary, and rate of unemployment for each of the two years provided from the 77 districts."
   ]
  },
  {
   "cell_type": "code",
   "execution_count": 11,
   "metadata": {},
   "outputs": [
    {
     "name": "stdout",
     "output_type": "stream",
     "text": [
      "    district_id  Population\n",
      "0             9       81344\n",
      "1            12      107870\n",
      "2            19       51428\n",
      "3            31       51313\n",
      "4            33      133777\n",
      "5            38       85852\n",
      "6            50      102609\n",
      "7            56      124605\n",
      "8            57      161954\n",
      "9            58      109164\n",
      "10           60      110643\n",
      "11           61      117897\n",
      "12           63       86513\n",
      "13           65      114200\n",
      "14           66      125832\n",
      "15           67      106054\n",
      "16           71      161227\n",
      "17           72      226122\n",
      "18           75      138032\n",
      "19           76      127369\n",
      "20           77      148545\n"
     ]
    }
   ],
   "source": [
    "#Districts below average \n",
    "query = \"SELECT district_id, A4 as Population FROM district WHERE (A11<9031.675) AND (A12>3.072) AND (A13>3.787)\"\n",
    "df = pd.read_sql_query(query,conn)\n",
    "print(df);"
   ]
  },
  {
   "cell_type": "markdown",
   "metadata": {},
   "source": [
    "Using the district info we can find the districts which have lower than average salary and higher rates of unemployment for both years. One may expect that these districts dispropotionately represent clients that have had issues with the bank and where caution may be excercised in evaluating future clients."
   ]
  },
  {
   "cell_type": "code",
   "execution_count": 12,
   "metadata": {},
   "outputs": [
    {
     "name": "stdout",
     "output_type": "stream",
     "text": [
      "   COUNT(*)\n",
      "0       203\n",
      "0        31\n",
      "0       403\n",
      "0        45\n"
     ]
    }
   ],
   "source": [
    "#Counting loan status\n",
    "A = pd.read_sql_query(\"SELECT COUNT(*) FROM loan WHERE status='A' \", conn)\n",
    "B = pd.read_sql_query(\"SELECT COUNT(*) FROM loan WHERE status='B' \", conn)\n",
    "C = pd.read_sql_query(\"SELECT COUNT(*) FROM loan WHERE status='C' \", conn)\n",
    "D = pd.read_sql_query(\"SELECT COUNT(*) FROM loan WHERE status='D' \", conn)\n",
    "LoanStatus = [A, B, C, D]\n",
    "result = pd.concat(LoanStatus)\n",
    "print(result);"
   ]
  },
  {
   "cell_type": "markdown",
   "metadata": {},
   "source": [
    "Here, we simply counted how many loans we in each status. We see that 76 are in an unfavorable status."
   ]
  },
  {
   "cell_type": "code",
   "execution_count": 13,
   "metadata": {},
   "outputs": [
    {
     "name": "stdout",
     "output_type": "stream",
     "text": [
      "    account_id\n",
      "0           19\n",
      "1           37\n",
      "2          103\n",
      "3          347\n",
      "4          426\n",
      "..         ...\n",
      "71       10266\n",
      "72       10365\n",
      "73       10451\n",
      "74       10857\n",
      "75       11021\n",
      "\n",
      "[76 rows x 1 columns]\n"
     ]
    }
   ],
   "source": [
    "#Selecting accounts with bad loans\n",
    "df = pd.read_sql_query(\"SELECT account_id FROM loan WHERE (status='B') OR (status='D') \", conn)\n",
    "print(df);"
   ]
  },
  {
   "cell_type": "markdown",
   "metadata": {},
   "source": [
    "The first dataframe represents the freqency of each loan status (A-D) and the second shows the 76 accounts which are associated with a unfavorable status with the bank (B and D). The number of rows in the second confirms the count in the previous dataframe."
   ]
  },
  {
   "cell_type": "code",
   "execution_count": 14,
   "metadata": {},
   "outputs": [
    {
     "data": {
      "image/png": "[encoded data removed]",
      "text/plain": [
       "<Figure size 432x288 with 1 Axes>"
      ]
     },
     "metadata": {
      "needs_background": "light"
     },
     "output_type": "display_data"
    },
    {
     "data": {
      "image/png": "[encoded data removed]",
      "text/plain": [
       "<Figure size 432x288 with 1 Axes>"
      ]
     },
     "metadata": {
      "needs_background": "light"
     },
     "output_type": "display_data"
    }
   ],
   "source": [
    "#Merge loan and account table\n",
    "df1 = pd.read_sql_query(\"SELECT * from loan\", conn)\n",
    "df2 = pd.read_sql_query(\"SELECT * from account\", conn)\n",
    "df1 = pd.merge(df1, df2, on='account_id')\n",
    "#print(df1);  \n",
    "\n",
    "statusBD = df1[df1[\"status\"].isin(['B','D'])]\n",
    "maybe = statusBD[[\"account_id\", \"district_id\"]] #Creating dataframe of just relevant columns \n",
    "hist = maybe.hist(column=\"district_id\", bins=76) \n",
    "for ax in hist.flatten():\n",
    "    ax.set_xlabel(\"Districts\")\n",
    "    ax.set_ylabel(\"Accounts w/ Loan Status B or D\")   \n",
    "#print(maybe); \n",
    "\n",
    "place = df1[[\"account_id\", \"district_id\"]] #New dataframe for all loans\n",
    "hist = place.hist(column=\"district_id\", bins = 76)\n",
    "for ax in hist.flatten():\n",
    "    ax.set_xlabel(\"Districts\")\n",
    "    ax.set_ylabel(\"Loans\")\n",
    "#print(place);"
   ]
  },
  {
   "cell_type": "markdown",
   "metadata": {},
   "source": [
    "These histograms represent the districts by the number of loans issued by the bank and how many of those are in a 'bad status. The data was combined from the loan and the account table by the account_id column. This reveals that district 1, which represents Prague, clearly has the most loans and therefore the high number of bad loans makes sense. This direct relationship is also seen with district 54 and some of those around 70. It does however, identify some spikes in bad loans where we do not have a large amount of loans awarded. Lets compare this to the list of districts that have poor salary and unemployment. District 19, 31, 50, and 67 were all part of the 20 districts below average shown previously and had more than one loan in an unfavorable status. Ultimately, there is a correlation between the standard of living for the district an account resides in and their likelihood to default on a loan. However, there really are not enough loans given to each district to prove this completely. You can also reduce the number bins in each of the histograms, and assuming that the district are located close to eachother geographically make more general statements about loan success by larger regions. "
   ]
  },
  {
   "cell_type": "code",
   "execution_count": 15,
   "metadata": {},
   "outputs": [
    {
     "name": "stdout",
     "output_type": "stream",
     "text": [
      "   AVG(balance)\n",
      "0  38518.379134\n"
     ]
    },
    {
     "data": {
      "image/png": "[encoded data removed]",
      "text/plain": [
       "<Figure size 432x288 with 1 Axes>"
      ]
     },
     "metadata": {
      "needs_background": "light"
     },
     "output_type": "display_data"
    },
    {
     "data": {
      "image/png": "[encoded data removed]",
      "text/plain": [
       "<Figure size 432x288 with 1 Axes>"
      ]
     },
     "metadata": {
      "needs_background": "light"
     },
     "output_type": "display_data"
    },
    {
     "data": {
      "image/png": "[encoded data removed]",
      "text/plain": [
       "<Figure size 432x288 with 1 Axes>"
      ]
     },
     "metadata": {
      "needs_background": "light"
     },
     "output_type": "display_data"
    }
   ],
   "source": [
    "#Finding the account balance by credit card type\n",
    "df1 = pd.read_sql_query(\"SELECT * from card\", conn) #merge card and desposition tables\n",
    "df2 = pd.read_sql_query(\"SELECT * from disp\", conn)\n",
    "combined = pd.merge(df1, df2, on='disp_id') \n",
    "#print(combined);\n",
    "gold = combined[combined[\"type_x\"].isin(['gold'])]  #sort the combined table by card type\n",
    "junior = combined[combined[\"type_x\"].isin(['junior'])]\n",
    "classic = combined[combined[\"type_x\"].isin(['classic'])]\n",
    "\n",
    "gaccounts = gold[[\"account_id\"]]  #just get relevant column\n",
    "jaccounts = junior[[\"account_id\"]]\n",
    "caccounts = classic[[\"account_id\"]]\n",
    "\n",
    "#print(gaccounts);\n",
    "df3 = pd.read_sql_query(\"SELECT balance, account_id from trans\", conn)\n",
    "\n",
    "new = pd.merge(gaccounts, df3, on='account_id')  #sorts the trans table by account_id\n",
    "jnew = pd.merge(jaccounts, df3, on='account_id')\n",
    "cnew = pd.merge(caccounts, df3, on='account_id')\n",
    "#print(new);\n",
    "\n",
    "avg = new.groupby('account_id').mean('balance') #groups transactions by account and finds average balance for each\n",
    "javg = jnew.groupby('account_id').mean('balance')\n",
    "cavg = cnew.groupby('account_id').mean('balance')\n",
    "\n",
    "hist = avg.hist(color = 'y') #plot\n",
    "for ax in hist.flatten():\n",
    "    ax.set_xlabel(\"Average Dollars in thousands\")\n",
    "    ax.set_ylabel(\"Clients\")\n",
    "hist = cavg.hist(color = 'k')\n",
    "for ax in hist.flatten():\n",
    "    ax.set_xlabel(\"Average Dollars in thousands\")\n",
    "    ax.set_ylabel(\"Clients\")\n",
    "hist = javg.hist(color = 'b')\n",
    "for ax in hist.flatten():\n",
    "    ax.set_xlabel(\"Average Dollars in thousands\")\n",
    "    ax.set_ylabel(\"Clients\")\n",
    "\n",
    "allavg = pd.read_sql_query(\"SELECT AVG(balance) from trans\", conn)\n",
    "print(allavg);"
   ]
  },
  {
   "cell_type": "markdown",
   "metadata": {},
   "source": [
    "These three histograms show the distributions of the aveage account balances for those with a credit card seperated by  card type. The gold type shown first is distributed more at higher balances, which makes total sense. This is what we expect and shows that we are probably giving these cards to the right people. Notably, there are many more people with classic credit cards than any other type. This is why we see our average account balance around $38500. The bank may want to use the clients with high account balances and figure out where they live so they can allocate more resources to keep those high value clients happy. It also identifies areas where they can look for new favorable clients."
   ]
  },
  {
   "cell_type": "markdown",
   "metadata": {},
   "source": [
    "# Discussion"
   ]
  },
  {
   "cell_type": "markdown",
   "metadata": {},
   "source": [
    "With the amount of information available through these eight tables there are endless ways of approaching analysis of the client data. So far I have shown what's in each table and how they relate to eachother. Some of the districts struggling economically were identified and related that to the location of the loans that had problems with the bank. The credit cards offered allowed us to compare some of the accounts by their average balance as well. If I were the bank and wanted to improve profits my next step would be to look at the rate of enterpreneurs given by district. This would reveal what areas are actively developing and one could compare that with the loans already given out by the bank. If an area has a high amount of enterpreneurship, but our bank has not given out loans there, why is that? What can we do to capitalize on business seeking loans to increase profits. This way the bank can pick where to focus their marketing resources for credit options. There are other ways we can analyze the data to detect good and bad clients and influence decision making, but this is one way to start to categorize the clients. "
   ]
  }
 ],
 "metadata": {
  "kernelspec": {
   "display_name": "Python 3",
   "language": "python",
   "name": "python3"
  },
  "language_info": {
   "codemirror_mode": {
    "name": "ipython",
    "version": 3
   },
   "file_extension": ".py",
   "mimetype": "text/x-python",
   "name": "python",
   "nbconvert_exporter": "python",
   "pygments_lexer": "ipython3",
   "version": "3.8.5"
  }
 },
 "nbformat": 4,
 "nbformat_minor": 4
}
