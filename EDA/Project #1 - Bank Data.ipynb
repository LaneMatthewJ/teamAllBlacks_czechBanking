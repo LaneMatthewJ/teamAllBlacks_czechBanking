{
 "cells": [
  {
   "cell_type": "markdown",
   "metadata": {},
   "source": [
    "# Data Science Assignment 3: Analyzing Bank Data\n",
    "<b>Ryan Sitton</b>\n",
    "<br>DSE 511\n",
    "<br>October 12, 2020\n",
    "<br>In this notebook, I am evaluating a 20 year old set of data from a bank, about a set of accounts."
   ]
  },
  {
   "cell_type": "code",
   "execution_count": 1,
   "metadata": {},
   "outputs": [],
   "source": [
    "import sqlite3\n",
    "import numpy as np\n",
    "import matplotlib as mpl\n",
    "import matplotlib.pyplot as plt\n",
    "import pandas as pd"
   ]
  },
  {
   "cell_type": "code",
   "execution_count": 2,
   "metadata": {},
   "outputs": [
    {
     "name": "stdout",
     "output_type": "stream",
     "text": [
      "[('account',), ('card',), ('client',), ('disp',), ('district',), ('loan',), ('order',), ('trans',)]\n"
     ]
    }
   ],
   "source": [
    "conn = sqlite3.connect('financial.db')\n",
    "cur = conn.cursor()\n",
    " #I needed to find out the tables that were in the data set, so the next command does this:\n",
    "print (cur.execute(\"SELECT name FROM sqlite_master WHERE type='table';\").fetchall())"
   ]
  },
  {
   "cell_type": "code",
   "execution_count": 3,
   "metadata": {},
   "outputs": [],
   "source": [
    " # Knowing the table names, I created panda tables for each of the tables in the dataset...\n",
    "df_account = pd.read_sql_query(\"SELECT * FROM account\", conn)\n",
    "df_card = pd.read_sql_query(\"SELECT * FROM card\", conn)\n",
    "df_client = pd.read_sql_query(\"SELECT * FROM client\", conn)\n",
    "df_disp = pd.read_sql_query(\"SELECT * FROM disp\", conn)\n",
    "df_district = pd.read_sql_query(\"SELECT * FROM district\", conn)\n",
    "df_loan = pd.read_sql_query(\"SELECT * FROM loan\", conn)\n",
    "df_trans = pd.read_sql_query(\"SELECT * FROM trans\", conn)\n",
    "# df_order = pd.read_sql_query(\"SELECT * FROM order\", conn) <- for some reason this one wouldnt work???"
   ]
  },
  {
   "cell_type": "code",
   "execution_count": 4,
   "metadata": {},
   "outputs": [
    {
     "data": {
      "text/html": [
       "<div>\n",
       "<style scoped>\n",
       "    .dataframe tbody tr th:only-of-type {\n",
       "        vertical-align: middle;\n",
       "    }\n",
       "\n",
       "    .dataframe tbody tr th {\n",
       "        vertical-align: top;\n",
       "    }\n",
       "\n",
       "    .dataframe thead th {\n",
       "        text-align: right;\n",
       "    }\n",
       "</style>\n",
       "<table border=\"1\" class=\"dataframe\">\n",
       "  <thead>\n",
       "    <tr style=\"text-align: right;\">\n",
       "      <th></th>\n",
       "      <th>trans_id</th>\n",
       "      <th>account_id</th>\n",
       "      <th>date</th>\n",
       "      <th>type</th>\n",
       "      <th>operation</th>\n",
       "      <th>amount</th>\n",
       "      <th>balance</th>\n",
       "      <th>k_symbol</th>\n",
       "      <th>bank</th>\n",
       "      <th>account</th>\n",
       "    </tr>\n",
       "  </thead>\n",
       "  <tbody>\n",
       "    <tr>\n",
       "      <th>0</th>\n",
       "      <td>1</td>\n",
       "      <td>1</td>\n",
       "      <td>1995-03-24</td>\n",
       "      <td>PRIJEM</td>\n",
       "      <td>VKLAD</td>\n",
       "      <td>1000</td>\n",
       "      <td>1000</td>\n",
       "      <td>None</td>\n",
       "      <td>None</td>\n",
       "      <td>NaN</td>\n",
       "    </tr>\n",
       "    <tr>\n",
       "      <th>1</th>\n",
       "      <td>5</td>\n",
       "      <td>1</td>\n",
       "      <td>1995-04-13</td>\n",
       "      <td>PRIJEM</td>\n",
       "      <td>PREVOD Z UCTU</td>\n",
       "      <td>3679</td>\n",
       "      <td>4679</td>\n",
       "      <td>None</td>\n",
       "      <td>AB</td>\n",
       "      <td>41403269.0</td>\n",
       "    </tr>\n",
       "    <tr>\n",
       "      <th>2</th>\n",
       "      <td>6</td>\n",
       "      <td>1</td>\n",
       "      <td>1995-05-13</td>\n",
       "      <td>PRIJEM</td>\n",
       "      <td>PREVOD Z UCTU</td>\n",
       "      <td>3679</td>\n",
       "      <td>20977</td>\n",
       "      <td>None</td>\n",
       "      <td>AB</td>\n",
       "      <td>41403269.0</td>\n",
       "    </tr>\n",
       "    <tr>\n",
       "      <th>3</th>\n",
       "      <td>7</td>\n",
       "      <td>1</td>\n",
       "      <td>1995-06-13</td>\n",
       "      <td>PRIJEM</td>\n",
       "      <td>PREVOD Z UCTU</td>\n",
       "      <td>3679</td>\n",
       "      <td>26835</td>\n",
       "      <td>None</td>\n",
       "      <td>AB</td>\n",
       "      <td>41403269.0</td>\n",
       "    </tr>\n",
       "    <tr>\n",
       "      <th>4</th>\n",
       "      <td>8</td>\n",
       "      <td>1</td>\n",
       "      <td>1995-07-13</td>\n",
       "      <td>PRIJEM</td>\n",
       "      <td>PREVOD Z UCTU</td>\n",
       "      <td>3679</td>\n",
       "      <td>30415</td>\n",
       "      <td>None</td>\n",
       "      <td>AB</td>\n",
       "      <td>41403269.0</td>\n",
       "    </tr>\n",
       "    <tr>\n",
       "      <th>...</th>\n",
       "      <td>...</td>\n",
       "      <td>...</td>\n",
       "      <td>...</td>\n",
       "      <td>...</td>\n",
       "      <td>...</td>\n",
       "      <td>...</td>\n",
       "      <td>...</td>\n",
       "      <td>...</td>\n",
       "      <td>...</td>\n",
       "      <td>...</td>\n",
       "    </tr>\n",
       "    <tr>\n",
       "      <th>1056315</th>\n",
       "      <td>3682983</td>\n",
       "      <td>10451</td>\n",
       "      <td>1998-08-31</td>\n",
       "      <td>PRIJEM</td>\n",
       "      <td>None</td>\n",
       "      <td>62</td>\n",
       "      <td>17300</td>\n",
       "      <td>UROK</td>\n",
       "      <td>None</td>\n",
       "      <td>NaN</td>\n",
       "    </tr>\n",
       "    <tr>\n",
       "      <th>1056316</th>\n",
       "      <td>3682984</td>\n",
       "      <td>10451</td>\n",
       "      <td>1998-09-30</td>\n",
       "      <td>PRIJEM</td>\n",
       "      <td>None</td>\n",
       "      <td>49</td>\n",
       "      <td>13442</td>\n",
       "      <td>UROK</td>\n",
       "      <td>None</td>\n",
       "      <td>NaN</td>\n",
       "    </tr>\n",
       "    <tr>\n",
       "      <th>1056317</th>\n",
       "      <td>3682985</td>\n",
       "      <td>10451</td>\n",
       "      <td>1998-10-31</td>\n",
       "      <td>PRIJEM</td>\n",
       "      <td>None</td>\n",
       "      <td>34</td>\n",
       "      <td>10118</td>\n",
       "      <td>UROK</td>\n",
       "      <td>None</td>\n",
       "      <td>NaN</td>\n",
       "    </tr>\n",
       "    <tr>\n",
       "      <th>1056318</th>\n",
       "      <td>3682986</td>\n",
       "      <td>10451</td>\n",
       "      <td>1998-11-30</td>\n",
       "      <td>PRIJEM</td>\n",
       "      <td>None</td>\n",
       "      <td>26</td>\n",
       "      <td>8398</td>\n",
       "      <td>UROK</td>\n",
       "      <td>None</td>\n",
       "      <td>NaN</td>\n",
       "    </tr>\n",
       "    <tr>\n",
       "      <th>1056319</th>\n",
       "      <td>3682987</td>\n",
       "      <td>10451</td>\n",
       "      <td>1998-12-31</td>\n",
       "      <td>PRIJEM</td>\n",
       "      <td>None</td>\n",
       "      <td>42</td>\n",
       "      <td>13695</td>\n",
       "      <td>UROK</td>\n",
       "      <td>None</td>\n",
       "      <td>NaN</td>\n",
       "    </tr>\n",
       "  </tbody>\n",
       "</table>\n",
       "<p>1056320 rows × 10 columns</p>\n",
       "</div>"
      ],
      "text/plain": [
       "         trans_id  account_id        date    type      operation  amount  \\\n",
       "0               1           1  1995-03-24  PRIJEM          VKLAD    1000   \n",
       "1               5           1  1995-04-13  PRIJEM  PREVOD Z UCTU    3679   \n",
       "2               6           1  1995-05-13  PRIJEM  PREVOD Z UCTU    3679   \n",
       "3               7           1  1995-06-13  PRIJEM  PREVOD Z UCTU    3679   \n",
       "4               8           1  1995-07-13  PRIJEM  PREVOD Z UCTU    3679   \n",
       "...           ...         ...         ...     ...            ...     ...   \n",
       "1056315   3682983       10451  1998-08-31  PRIJEM           None      62   \n",
       "1056316   3682984       10451  1998-09-30  PRIJEM           None      49   \n",
       "1056317   3682985       10451  1998-10-31  PRIJEM           None      34   \n",
       "1056318   3682986       10451  1998-11-30  PRIJEM           None      26   \n",
       "1056319   3682987       10451  1998-12-31  PRIJEM           None      42   \n",
       "\n",
       "         balance k_symbol  bank     account  \n",
       "0           1000     None  None         NaN  \n",
       "1           4679     None    AB  41403269.0  \n",
       "2          20977     None    AB  41403269.0  \n",
       "3          26835     None    AB  41403269.0  \n",
       "4          30415     None    AB  41403269.0  \n",
       "...          ...      ...   ...         ...  \n",
       "1056315    17300     UROK  None         NaN  \n",
       "1056316    13442     UROK  None         NaN  \n",
       "1056317    10118     UROK  None         NaN  \n",
       "1056318     8398     UROK  None         NaN  \n",
       "1056319    13695     UROK  None         NaN  \n",
       "\n",
       "[1056320 rows x 10 columns]"
      ]
     },
     "execution_count": 4,
     "metadata": {},
     "output_type": "execute_result"
    }
   ],
   "source": [
    " # Now I am going the through the tables one by one looking at the data in each one of them to find connections...\n",
    "df_trans"
   ]
  },
  {
   "cell_type": "markdown",
   "metadata": {},
   "source": [
    "# Discussion\n",
    "I continually typed in the various table names to give me insight on what variables where in which tables. This data is hard to get a handle on, because there is so much data, and most of it appeared to be fairly \"transactional\". The tables contain mostly typical banking information, such as account identification, basic client demographics, information about loans (size and status), specific transaction information from accounts, and some summary information on the districts in which people lived.\n",
    "\n",
    "The \"trans\" table actually has the most data in it, but it would require some more complicated anlaysis, like trending account balance over time to make that data useful. I tried to envision which data would be interesting to a bank. Perhaps something that would show savings or spending trends, or loan disposition indicators. These tables/columns appeared to have the data to do this work:\n",
    "   - client: client_id, Gender, Age, District\n",
    "   - district: disctrict_id and A2, A3 (names)\n",
    "   - loan: loan_id, account_id, amount, status\n",
    "   - disp: has both client_id and account_id\n",
    "    \n",
    "I noted that the identifiers common in mutiple tables were: account_id, district_id, and client_id. These appear to be the primary connections between the tables.\n",
    "\n",
    "Given my abilities at this point, it seems like it might be interesting to estblish some prediction of \"status\" using demographic and account information. Do do this, I need to combine the CLIENT, DISP, and LOAN tables to view this information together. This seems a bit counterproductive, as I am bascially turning a database into a flat file, but it seems to be the easiest way to evaluate the trends in the data."
   ]
  },
  {
   "cell_type": "code",
   "execution_count": 5,
   "metadata": {},
   "outputs": [
    {
     "data": {
      "text/html": [
       "<div>\n",
       "<style scoped>\n",
       "    .dataframe tbody tr th:only-of-type {\n",
       "        vertical-align: middle;\n",
       "    }\n",
       "\n",
       "    .dataframe tbody tr th {\n",
       "        vertical-align: top;\n",
       "    }\n",
       "\n",
       "    .dataframe thead th {\n",
       "        text-align: right;\n",
       "    }\n",
       "</style>\n",
       "<table border=\"1\" class=\"dataframe\">\n",
       "  <thead>\n",
       "    <tr style=\"text-align: right;\">\n",
       "      <th></th>\n",
       "      <th>client_id</th>\n",
       "      <th>gender</th>\n",
       "      <th>birth_date</th>\n",
       "      <th>district_id</th>\n",
       "      <th>disp_id</th>\n",
       "      <th>account_id</th>\n",
       "      <th>type</th>\n",
       "    </tr>\n",
       "  </thead>\n",
       "  <tbody>\n",
       "    <tr>\n",
       "      <th>0</th>\n",
       "      <td>1</td>\n",
       "      <td>F</td>\n",
       "      <td>1970-12-13</td>\n",
       "      <td>18</td>\n",
       "      <td>1</td>\n",
       "      <td>1</td>\n",
       "      <td>OWNER</td>\n",
       "    </tr>\n",
       "    <tr>\n",
       "      <th>1</th>\n",
       "      <td>2</td>\n",
       "      <td>M</td>\n",
       "      <td>1945-02-04</td>\n",
       "      <td>1</td>\n",
       "      <td>2</td>\n",
       "      <td>2</td>\n",
       "      <td>OWNER</td>\n",
       "    </tr>\n",
       "    <tr>\n",
       "      <th>2</th>\n",
       "      <td>3</td>\n",
       "      <td>F</td>\n",
       "      <td>1940-10-09</td>\n",
       "      <td>1</td>\n",
       "      <td>3</td>\n",
       "      <td>2</td>\n",
       "      <td>DISPONENT</td>\n",
       "    </tr>\n",
       "    <tr>\n",
       "      <th>3</th>\n",
       "      <td>4</td>\n",
       "      <td>M</td>\n",
       "      <td>1956-12-01</td>\n",
       "      <td>5</td>\n",
       "      <td>4</td>\n",
       "      <td>3</td>\n",
       "      <td>OWNER</td>\n",
       "    </tr>\n",
       "    <tr>\n",
       "      <th>4</th>\n",
       "      <td>5</td>\n",
       "      <td>F</td>\n",
       "      <td>1960-07-03</td>\n",
       "      <td>5</td>\n",
       "      <td>5</td>\n",
       "      <td>3</td>\n",
       "      <td>DISPONENT</td>\n",
       "    </tr>\n",
       "    <tr>\n",
       "      <th>...</th>\n",
       "      <td>...</td>\n",
       "      <td>...</td>\n",
       "      <td>...</td>\n",
       "      <td>...</td>\n",
       "      <td>...</td>\n",
       "      <td>...</td>\n",
       "      <td>...</td>\n",
       "    </tr>\n",
       "    <tr>\n",
       "      <th>5364</th>\n",
       "      <td>13955</td>\n",
       "      <td>F</td>\n",
       "      <td>1945-10-30</td>\n",
       "      <td>1</td>\n",
       "      <td>13647</td>\n",
       "      <td>11349</td>\n",
       "      <td>OWNER</td>\n",
       "    </tr>\n",
       "    <tr>\n",
       "      <th>5365</th>\n",
       "      <td>13956</td>\n",
       "      <td>M</td>\n",
       "      <td>1943-04-06</td>\n",
       "      <td>1</td>\n",
       "      <td>13648</td>\n",
       "      <td>11349</td>\n",
       "      <td>DISPONENT</td>\n",
       "    </tr>\n",
       "    <tr>\n",
       "      <th>5366</th>\n",
       "      <td>13968</td>\n",
       "      <td>M</td>\n",
       "      <td>1968-04-13</td>\n",
       "      <td>61</td>\n",
       "      <td>13660</td>\n",
       "      <td>11359</td>\n",
       "      <td>OWNER</td>\n",
       "    </tr>\n",
       "    <tr>\n",
       "      <th>5367</th>\n",
       "      <td>13971</td>\n",
       "      <td>F</td>\n",
       "      <td>1962-10-19</td>\n",
       "      <td>67</td>\n",
       "      <td>13663</td>\n",
       "      <td>11362</td>\n",
       "      <td>OWNER</td>\n",
       "    </tr>\n",
       "    <tr>\n",
       "      <th>5368</th>\n",
       "      <td>13998</td>\n",
       "      <td>F</td>\n",
       "      <td>1953-08-12</td>\n",
       "      <td>74</td>\n",
       "      <td>13690</td>\n",
       "      <td>11382</td>\n",
       "      <td>OWNER</td>\n",
       "    </tr>\n",
       "  </tbody>\n",
       "</table>\n",
       "<p>5369 rows × 7 columns</p>\n",
       "</div>"
      ],
      "text/plain": [
       "      client_id gender  birth_date  district_id  disp_id  account_id  \\\n",
       "0             1      F  1970-12-13           18        1           1   \n",
       "1             2      M  1945-02-04            1        2           2   \n",
       "2             3      F  1940-10-09            1        3           2   \n",
       "3             4      M  1956-12-01            5        4           3   \n",
       "4             5      F  1960-07-03            5        5           3   \n",
       "...         ...    ...         ...          ...      ...         ...   \n",
       "5364      13955      F  1945-10-30            1    13647       11349   \n",
       "5365      13956      M  1943-04-06            1    13648       11349   \n",
       "5366      13968      M  1968-04-13           61    13660       11359   \n",
       "5367      13971      F  1962-10-19           67    13663       11362   \n",
       "5368      13998      F  1953-08-12           74    13690       11382   \n",
       "\n",
       "           type  \n",
       "0         OWNER  \n",
       "1         OWNER  \n",
       "2     DISPONENT  \n",
       "3         OWNER  \n",
       "4     DISPONENT  \n",
       "...         ...  \n",
       "5364      OWNER  \n",
       "5365  DISPONENT  \n",
       "5366      OWNER  \n",
       "5367      OWNER  \n",
       "5368      OWNER  \n",
       "\n",
       "[5369 rows x 7 columns]"
      ]
     },
     "execution_count": 5,
     "metadata": {},
     "output_type": "execute_result"
    }
   ],
   "source": [
    "df_clientmerge = df_client.merge(df_disp)\n",
    "df_clientmerge"
   ]
  },
  {
   "cell_type": "code",
   "execution_count": 6,
   "metadata": {},
   "outputs": [
    {
     "data": {
      "text/html": [
       "<div>\n",
       "<style scoped>\n",
       "    .dataframe tbody tr th:only-of-type {\n",
       "        vertical-align: middle;\n",
       "    }\n",
       "\n",
       "    .dataframe tbody tr th {\n",
       "        vertical-align: top;\n",
       "    }\n",
       "\n",
       "    .dataframe thead th {\n",
       "        text-align: right;\n",
       "    }\n",
       "</style>\n",
       "<table border=\"1\" class=\"dataframe\">\n",
       "  <thead>\n",
       "    <tr style=\"text-align: right;\">\n",
       "      <th></th>\n",
       "      <th>client_id</th>\n",
       "      <th>gender</th>\n",
       "      <th>birth_date</th>\n",
       "      <th>district_id</th>\n",
       "      <th>disp_id</th>\n",
       "      <th>account_id</th>\n",
       "      <th>type</th>\n",
       "      <th>loan_id</th>\n",
       "      <th>date</th>\n",
       "      <th>amount</th>\n",
       "      <th>duration</th>\n",
       "      <th>payments</th>\n",
       "      <th>status</th>\n",
       "    </tr>\n",
       "  </thead>\n",
       "  <tbody>\n",
       "    <tr>\n",
       "      <th>0</th>\n",
       "      <td>2</td>\n",
       "      <td>M</td>\n",
       "      <td>1945-02-04</td>\n",
       "      <td>1</td>\n",
       "      <td>2</td>\n",
       "      <td>2</td>\n",
       "      <td>OWNER</td>\n",
       "      <td>4959</td>\n",
       "      <td>1994-01-05</td>\n",
       "      <td>80952</td>\n",
       "      <td>24</td>\n",
       "      <td>3373</td>\n",
       "      <td>A</td>\n",
       "    </tr>\n",
       "    <tr>\n",
       "      <th>1</th>\n",
       "      <td>3</td>\n",
       "      <td>F</td>\n",
       "      <td>1940-10-09</td>\n",
       "      <td>1</td>\n",
       "      <td>3</td>\n",
       "      <td>2</td>\n",
       "      <td>DISPONENT</td>\n",
       "      <td>4959</td>\n",
       "      <td>1994-01-05</td>\n",
       "      <td>80952</td>\n",
       "      <td>24</td>\n",
       "      <td>3373</td>\n",
       "      <td>A</td>\n",
       "    </tr>\n",
       "    <tr>\n",
       "      <th>2</th>\n",
       "      <td>25</td>\n",
       "      <td>F</td>\n",
       "      <td>1939-04-23</td>\n",
       "      <td>21</td>\n",
       "      <td>25</td>\n",
       "      <td>19</td>\n",
       "      <td>OWNER</td>\n",
       "      <td>4961</td>\n",
       "      <td>1996-04-29</td>\n",
       "      <td>30276</td>\n",
       "      <td>12</td>\n",
       "      <td>2523</td>\n",
       "      <td>B</td>\n",
       "    </tr>\n",
       "    <tr>\n",
       "      <th>3</th>\n",
       "      <td>31</td>\n",
       "      <td>M</td>\n",
       "      <td>1962-02-09</td>\n",
       "      <td>68</td>\n",
       "      <td>31</td>\n",
       "      <td>25</td>\n",
       "      <td>OWNER</td>\n",
       "      <td>4962</td>\n",
       "      <td>1997-12-08</td>\n",
       "      <td>30276</td>\n",
       "      <td>12</td>\n",
       "      <td>2523</td>\n",
       "      <td>A</td>\n",
       "    </tr>\n",
       "    <tr>\n",
       "      <th>4</th>\n",
       "      <td>45</td>\n",
       "      <td>M</td>\n",
       "      <td>1952-08-26</td>\n",
       "      <td>20</td>\n",
       "      <td>45</td>\n",
       "      <td>37</td>\n",
       "      <td>OWNER</td>\n",
       "      <td>4967</td>\n",
       "      <td>1998-10-14</td>\n",
       "      <td>318480</td>\n",
       "      <td>60</td>\n",
       "      <td>5308</td>\n",
       "      <td>D</td>\n",
       "    </tr>\n",
       "    <tr>\n",
       "      <th>...</th>\n",
       "      <td>...</td>\n",
       "      <td>...</td>\n",
       "      <td>...</td>\n",
       "      <td>...</td>\n",
       "      <td>...</td>\n",
       "      <td>...</td>\n",
       "      <td>...</td>\n",
       "      <td>...</td>\n",
       "      <td>...</td>\n",
       "      <td>...</td>\n",
       "      <td>...</td>\n",
       "      <td>...</td>\n",
       "      <td>...</td>\n",
       "    </tr>\n",
       "    <tr>\n",
       "      <th>822</th>\n",
       "      <td>13924</td>\n",
       "      <td>F</td>\n",
       "      <td>1952-09-09</td>\n",
       "      <td>54</td>\n",
       "      <td>13616</td>\n",
       "      <td>11328</td>\n",
       "      <td>OWNER</td>\n",
       "      <td>7295</td>\n",
       "      <td>1998-07-18</td>\n",
       "      <td>280440</td>\n",
       "      <td>60</td>\n",
       "      <td>4674</td>\n",
       "      <td>C</td>\n",
       "    </tr>\n",
       "    <tr>\n",
       "      <th>823</th>\n",
       "      <td>13955</td>\n",
       "      <td>F</td>\n",
       "      <td>1945-10-30</td>\n",
       "      <td>1</td>\n",
       "      <td>13647</td>\n",
       "      <td>11349</td>\n",
       "      <td>OWNER</td>\n",
       "      <td>7304</td>\n",
       "      <td>1995-10-29</td>\n",
       "      <td>419880</td>\n",
       "      <td>60</td>\n",
       "      <td>6998</td>\n",
       "      <td>C</td>\n",
       "    </tr>\n",
       "    <tr>\n",
       "      <th>824</th>\n",
       "      <td>13956</td>\n",
       "      <td>M</td>\n",
       "      <td>1943-04-06</td>\n",
       "      <td>1</td>\n",
       "      <td>13648</td>\n",
       "      <td>11349</td>\n",
       "      <td>DISPONENT</td>\n",
       "      <td>7304</td>\n",
       "      <td>1995-10-29</td>\n",
       "      <td>419880</td>\n",
       "      <td>60</td>\n",
       "      <td>6998</td>\n",
       "      <td>C</td>\n",
       "    </tr>\n",
       "    <tr>\n",
       "      <th>825</th>\n",
       "      <td>13968</td>\n",
       "      <td>M</td>\n",
       "      <td>1968-04-13</td>\n",
       "      <td>61</td>\n",
       "      <td>13660</td>\n",
       "      <td>11359</td>\n",
       "      <td>OWNER</td>\n",
       "      <td>7305</td>\n",
       "      <td>1996-08-06</td>\n",
       "      <td>54024</td>\n",
       "      <td>12</td>\n",
       "      <td>4502</td>\n",
       "      <td>A</td>\n",
       "    </tr>\n",
       "    <tr>\n",
       "      <th>826</th>\n",
       "      <td>13971</td>\n",
       "      <td>F</td>\n",
       "      <td>1962-10-19</td>\n",
       "      <td>67</td>\n",
       "      <td>13663</td>\n",
       "      <td>11362</td>\n",
       "      <td>OWNER</td>\n",
       "      <td>7308</td>\n",
       "      <td>1996-12-27</td>\n",
       "      <td>129408</td>\n",
       "      <td>24</td>\n",
       "      <td>5392</td>\n",
       "      <td>A</td>\n",
       "    </tr>\n",
       "  </tbody>\n",
       "</table>\n",
       "<p>827 rows × 13 columns</p>\n",
       "</div>"
      ],
      "text/plain": [
       "     client_id gender  birth_date  district_id  disp_id  account_id  \\\n",
       "0            2      M  1945-02-04            1        2           2   \n",
       "1            3      F  1940-10-09            1        3           2   \n",
       "2           25      F  1939-04-23           21       25          19   \n",
       "3           31      M  1962-02-09           68       31          25   \n",
       "4           45      M  1952-08-26           20       45          37   \n",
       "..         ...    ...         ...          ...      ...         ...   \n",
       "822      13924      F  1952-09-09           54    13616       11328   \n",
       "823      13955      F  1945-10-30            1    13647       11349   \n",
       "824      13956      M  1943-04-06            1    13648       11349   \n",
       "825      13968      M  1968-04-13           61    13660       11359   \n",
       "826      13971      F  1962-10-19           67    13663       11362   \n",
       "\n",
       "          type  loan_id        date  amount  duration  payments status  \n",
       "0        OWNER     4959  1994-01-05   80952        24      3373      A  \n",
       "1    DISPONENT     4959  1994-01-05   80952        24      3373      A  \n",
       "2        OWNER     4961  1996-04-29   30276        12      2523      B  \n",
       "3        OWNER     4962  1997-12-08   30276        12      2523      A  \n",
       "4        OWNER     4967  1998-10-14  318480        60      5308      D  \n",
       "..         ...      ...         ...     ...       ...       ...    ...  \n",
       "822      OWNER     7295  1998-07-18  280440        60      4674      C  \n",
       "823      OWNER     7304  1995-10-29  419880        60      6998      C  \n",
       "824  DISPONENT     7304  1995-10-29  419880        60      6998      C  \n",
       "825      OWNER     7305  1996-08-06   54024        12      4502      A  \n",
       "826      OWNER     7308  1996-12-27  129408        24      5392      A  \n",
       "\n",
       "[827 rows x 13 columns]"
      ]
     },
     "execution_count": 6,
     "metadata": {},
     "output_type": "execute_result"
    }
   ],
   "source": [
    "df_cl = df_clientmerge.merge(df_loan)\n",
    "df_cl"
   ]
  },
  {
   "cell_type": "code",
   "execution_count": 7,
   "metadata": {},
   "outputs": [],
   "source": [
    "# df_account.to_csv (r'C:\\Users\\Ron\\Desktop\\account_data.csv', index = False)\n",
    "# Saving this command here in case I want to export tables to excel to view them more easily and do some analysis"
   ]
  },
  {
   "cell_type": "markdown",
   "metadata": {},
   "source": [
    "# Analysis\n",
    "With the \"df_cl\" table in place, I am going to explore the \"loan status\" information, first by running a historgram to see the relative amount of loans in a given status."
   ]
  },
  {
   "cell_type": "code",
   "execution_count": 8,
   "metadata": {},
   "outputs": [
    {
     "data": {
      "text/plain": [
       "Text(0.5, 1.0, 'Figure 1: Loan Status Distribution')"
      ]
     },
     "execution_count": 8,
     "metadata": {},
     "output_type": "execute_result"
    },
    {
     "data": {
      "image/png": "[encoded data removed]",
      "text/plain": [
       "<Figure size 432x288 with 1 Axes>"
      ]
     },
     "metadata": {
      "needs_background": "light"
     },
     "output_type": "display_data"
    }
   ],
   "source": [
    "plt.hist(df_cl[\"status\"])\n",
    "plt.ylabel(\"Number of Loans\")\n",
    "plt.xlabel(\"Status\")\n",
    "plt.title(\"Figure 1: Loan Status Distribution\")"
   ]
  },
  {
   "cell_type": "markdown",
   "metadata": {},
   "source": [
    "From the Explanation Website:\n",
    "- 'A' stands for contract finished, no problems\n",
    "- 'B' stands for contract finished, loan not payed\n",
    "- 'C' stands for running contract, OK so far\n",
    "- 'D' stands for running contract, client in debt\n",
    "\n",
    "Now I will build a scatter plot to compare the age, gender, and status of the loans, to look for any correlation."
   ]
  },
  {
   "cell_type": "code",
   "execution_count": 9,
   "metadata": {},
   "outputs": [
    {
     "data": {
      "text/plain": [
       "0       red\n",
       "1      blue\n",
       "2      blue\n",
       "3       red\n",
       "4       red\n",
       "       ... \n",
       "822    blue\n",
       "823    blue\n",
       "824     red\n",
       "825     red\n",
       "826    blue\n",
       "Name: gender_color, Length: 827, dtype: object"
      ]
     },
     "execution_count": 9,
     "metadata": {},
     "output_type": "execute_result"
    }
   ],
   "source": [
    "df_cl[\"gender_color\"]=df_cl[\"gender\"].replace({\"M\":\"red\", \"F\":\"blue\"})\n",
    "df_cl[\"gender_color\"]"
   ]
  },
  {
   "cell_type": "code",
   "execution_count": 10,
   "metadata": {},
   "outputs": [],
   "source": [
    "df_cl[\"birth_date\"]=pd.to_datetime(df_cl[\"birth_date\"])\n",
    "# I recognized that the birth date was an object, and ran this to convert it to a date format.\n",
    "# I was then going to convert to age, but decided that was not useful in my further analyses.\n",
    "# df_clientloan[\"age\"]=  (not using this right now)"
   ]
  },
  {
   "cell_type": "code",
   "execution_count": 11,
   "metadata": {},
   "outputs": [
    {
     "data": {
      "text/plain": [
       "<matplotlib.collections.PathCollection at 0x1249bb3cc70>"
      ]
     },
     "execution_count": 11,
     "metadata": {},
     "output_type": "execute_result"
    },
    {
     "data": {
      "image/png": "[encoded data removed]",
      "text/plain": [
       "<Figure size 1440x360 with 1 Axes>"
      ]
     },
     "metadata": {
      "needs_background": "light"
     },
     "output_type": "display_data"
    }
   ],
   "source": [
    "plt.figure(figsize=(20,5))\n",
    "plt.scatter(df_cl[\"birth_date\"], df_cl[\"status\"], c=df_cl[\"gender_color\"])"
   ]
  },
  {
   "cell_type": "markdown",
   "metadata": {},
   "source": [
    "Apparently there is no correlation (or none that is very interesting) in the loan status.  The distribution here seems fairly even between male and female, and evenly spread over age.  The only outlying data here is that early on (1930's) there was a low ratio of women to men borrowing money.  Not surprising."
   ]
  },
  {
   "cell_type": "markdown",
   "metadata": {},
   "source": [
    "Since this analysis wasn't very interesting, I am going to do one more: Comparing the loan amounts on a per district basis.  The district information is pretty interesting, given the income, unemployment, number of entrepreneurs, etc.  Perhaps it will be interesting to examine any correlation to loan amounts."
   ]
  },
  {
   "cell_type": "code",
   "execution_count": 12,
   "metadata": {},
   "outputs": [
    {
     "data": {
      "text/plain": [
       "<matplotlib.collections.PathCollection at 0x1249bee41f0>"
      ]
     },
     "execution_count": 12,
     "metadata": {},
     "output_type": "execute_result"
    },
    {
     "data": {
      "image/png": "[encoded data removed]",
      "text/plain": [
       "<Figure size 1440x576 with 1 Axes>"
      ]
     },
     "metadata": {
      "needs_background": "light"
     },
     "output_type": "display_data"
    }
   ],
   "source": [
    "plt.figure(figsize=(20,8))\n",
    "plt.scatter(df_cl[\"district_id\"], df_cl[\"amount\"])"
   ]
  },
  {
   "cell_type": "markdown",
   "metadata": {},
   "source": [
    "Once again, there appears to be little interesting correlations in amount, however, number of loans may be interesting. The last thing I will look into is the relationship between number of loans and population.  I start with a histogram, then below it plot a bar chart with the population levels."
   ]
  },
  {
   "cell_type": "code",
   "execution_count": 13,
   "metadata": {
    "scrolled": false
   },
   "outputs": [
    {
     "data": {
      "text/plain": [
       "<BarContainer object of 77 artists>"
      ]
     },
     "execution_count": 13,
     "metadata": {},
     "output_type": "execute_result"
    },
    {
     "data": {
      "image/png": "[encoded data removed]",
      "text/plain": [
       "<Figure size 1440x720 with 2 Axes>"
      ]
     },
     "metadata": {
      "needs_background": "light"
     },
     "output_type": "display_data"
    }
   ],
   "source": [
    "plt.figure(figsize=(20,10))\n",
    "plt.subplot(311)\n",
    "plt.hist(df_cl[\"district_id\"],77)\n",
    "plt.subplot(312)\n",
    "plt.bar(df_district[\"district_id\"],df_district[\"A4\"])"
   ]
  },
  {
   "cell_type": "markdown",
   "metadata": {},
   "source": [
    "This polt has resulted in nothing else interesting. While there are a few areas where it appears that the loan to population ratio varies, in general it seems that the loan to people ratio is fairly even across the country.  Therefore, it does not appear that there is anything worth digging into in more detail."
   ]
  },
  {
   "cell_type": "markdown",
   "metadata": {},
   "source": [
    "# Conclusion\n",
    "From the anlyses I have run, there does not appear to be any clever insights popping out of this data. In particular, I have not found any insights that would be interesting to the bank, such as borrowing behavior or loan risk.  However, it seems as though I need to run a more complicated anlysis that I do not know how to do... yet. \n",
    "\n",
    "As to additional data, I cannot think of any that I would like to get.  Once again, I am more interested in doing additional anlysis on the data that is here, requiring additional skills.  For example, if I could perform a multi-variable analysis, in which I compared crime rates, income rates, age, loan amount, and account trends over time, it may be possible to identify risk profiles in different age groups. To do this, I need to take the \"transaction\" table and somehow break it up into trends per account, looking for spend rates, negative balances, maximum balances, etc.  If we could show a correlation between all of these, it would not only be interesting to the bank, but interesting to government leaders as they try to establish economic predictions for specific regions.\n",
    "\n",
    "In conclusion, the next step is to improve my python development capabilities. With additional anlsyses of the data we have, I can then identify which additional data we need."
   ]
  }
 ],
 "metadata": {
  "kernelspec": {
   "display_name": "Python 3",
   "language": "python",
   "name": "python3"
  },
  "language_info": {
   "codemirror_mode": {
    "name": "ipython",
    "version": 3
   },
   "file_extension": ".py",
   "mimetype": "text/x-python",
   "name": "python",
   "nbconvert_exporter": "python",
   "pygments_lexer": "ipython3",
   "version": "3.8.3"
  }
 },
 "nbformat": 4,
 "nbformat_minor": 4
}
