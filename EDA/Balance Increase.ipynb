{
 "cells": [
  {
   "cell_type": "code",
   "execution_count": 1,
   "metadata": {},
   "outputs": [],
   "source": [
    "import pandas as pd\n",
    "import sqlite3\n",
    "import matplotlib.pyplot as plt\n",
    "conn = sqlite3.connect(\"./desktop/utk/dse511/financial.db\")"
   ]
  },
  {
   "cell_type": "code",
   "execution_count": 13,
   "metadata": {},
   "outputs": [
    {
     "name": "stdout",
     "output_type": "stream",
     "text": [
      "                                  balance\n",
      "year district_id account_id              \n",
      "1993 1           2           32590.759259\n",
      "                 36          42288.833333\n",
      "                 186         32719.357143\n",
      "                 197         45722.791667\n",
      "                 225         23421.388889\n",
      "...                                   ...\n",
      "1998 77          4631        70809.458333\n",
      "                 5228        75837.206897\n",
      "                 5817        57901.096154\n",
      "                 7181        72428.829630\n",
      "                 8321        49560.968421\n",
      "\n",
      "[17546 rows x 1 columns]\n"
     ]
    }
   ],
   "source": [
    "accdist = pd.read_sql_query(\"SELECT account_id, district_id from account\", conn)\n",
    "df = pd.read_sql_query(\"SELECT date as 'y-m-d', balance, account_id from trans \", conn)\n",
    "from datetime import date\n",
    "df['y-m-d'] = pd.to_datetime(df['y-m-d'])\n",
    "df['year'] = df['y-m-d'].map(lambda x: x.strftime('%Y'))\n",
    "df = pd.merge(accdist, df, on='account_id')\n",
    "avg = df.groupby(['year', 'district_id', 'account_id'])[['balance']].mean()\n",
    "\n",
    "print(avg);\n"
   ]
  },
  {
   "cell_type": "code",
   "execution_count": 34,
   "metadata": {},
   "outputs": [
    {
     "name": "stdout",
     "output_type": "stream",
     "text": [
      "                       balance\n",
      "year district_id              \n",
      "1993 1            28198.886937\n",
      "     2            24450.621974\n",
      "     3            37973.004276\n",
      "     4            21418.466143\n",
      "     5            22639.188357\n",
      "...                        ...\n",
      "1998 73           38284.292795\n",
      "     74           39307.449452\n",
      "     75           40393.370332\n",
      "     76           40069.561800\n",
      "     77           38683.527595\n",
      "\n",
      "[462 rows x 1 columns]\n"
     ]
    }
   ],
   "source": [
    "average = avg.groupby(['year', 'district_id'])[['balance']].mean()\n",
    "print(average);"
   ]
  },
  {
   "cell_type": "code",
   "execution_count": 32,
   "metadata": {},
   "outputs": [
    {
     "name": "stdout",
     "output_type": "stream",
     "text": [
      "           balance\n",
      "year              \n",
      "1993  28607.511917\n",
      "1994  33217.832529\n",
      "1995  33381.146571\n",
      "1996  33405.172710\n",
      "1997  35865.592433\n",
      "1998  38964.484511\n"
     ]
    }
   ],
   "source": [
    "yearlyaverage = avg.groupby(['year'])[['balance']].mean()\n",
    "print(yearlyaverage);"
   ]
  },
  {
   "cell_type": "code",
   "execution_count": 35,
   "metadata": {},
   "outputs": [
    {
     "name": "stdout",
     "output_type": "stream",
     "text": [
      "                      balance\n",
      "year district_id             \n",
      "1993 1               0.000000\n",
      "     2               0.000000\n",
      "     3               0.000000\n",
      "     4               0.000000\n",
      "     5               0.000000\n",
      "...                       ...\n",
      "1998 73           2168.930897\n",
      "     74           1924.776048\n",
      "     75           6276.255781\n",
      "     76           4008.904850\n",
      "     77           2248.771871\n",
      "\n",
      "[462 rows x 1 columns]\n"
     ]
    }
   ],
   "source": [
    "districtchange = average.groupby(['district_id'])[['balance']].diff().fillna(0)\n",
    "print(districtchange);"
   ]
  },
  {
   "cell_type": "code",
   "execution_count": null,
   "metadata": {},
   "outputs": [],
   "source": []
  },
  {
   "cell_type": "code",
   "execution_count": null,
   "metadata": {},
   "outputs": [],
   "source": []
  }
 ],
 "metadata": {
  "kernelspec": {
   "display_name": "Python 3",
   "language": "python",
   "name": "python3"
  },
  "language_info": {
   "codemirror_mode": {
    "name": "ipython",
    "version": 3
   },
   "file_extension": ".py",
   "mimetype": "text/x-python",
   "name": "python",
   "nbconvert_exporter": "python",
   "pygments_lexer": "ipython3",
   "version": "3.8.5"
  }
 },
 "nbformat": 4,
 "nbformat_minor": 4
}
