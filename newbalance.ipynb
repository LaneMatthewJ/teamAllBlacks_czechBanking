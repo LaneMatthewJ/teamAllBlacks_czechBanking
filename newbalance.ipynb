{
 "cells": [
  {
   "cell_type": "code",
   "execution_count": 1,
   "metadata": {},
   "outputs": [],
   "source": [
    "import pandas as pd\n",
    "import sqlite3\n",
    "import matplotlib.pyplot as plt"
   ]
  },
  {
   "cell_type": "code",
   "execution_count": 2,
   "metadata": {},
   "outputs": [],
   "source": [
    "def accChangeToDemo(filepath):\n",
    "\n",
    "    conn = sqlite3.connect(filepath)\n",
    "    accdist = pd.read_sql_query(\"SELECT account_id, district_id from account\", conn)\n",
    "    df = pd.read_sql_query(\"SELECT date as 'y-m-d', balance, account_id from trans \", conn)\n",
    "    from datetime import date\n",
    "    df['y-m-d'] = pd.to_datetime(df['y-m-d'])\n",
    "    df['year'] = df['y-m-d'].map(lambda x: x.strftime('%Y'))\n",
    "    df = pd.merge(accdist, df, on='account_id')\n",
    "    avg = df.groupby(['year', 'district_id', 'account_id'])[['balance']].mean()\n",
    "    average = avg.groupby(['year', 'district_id'])[['balance']].median()\n",
    "    percentChanged = (average.loc[\"1998\"] - average.loc[\"1994\"]) / average.loc[\"1994\"] * 100\n",
    "    #districtchange = average.groupby(['district_id'])[['balance']].diff().fillna(0)\n",
    "   # asum = districtchange.groupby(['district_id']).sum([['balance']])\n",
    "   # newdemo = asum.div(302.70801242)\n",
    "    \n",
    "    return percentChanged\n",
    "    "
   ]
  },
  {
   "cell_type": "code",
   "execution_count": 3,
   "metadata": {},
   "outputs": [
    {
     "data": {
      "text/html": [
       "<div>\n",
       "<style scoped>\n",
       "    .dataframe tbody tr th:only-of-type {\n",
       "        vertical-align: middle;\n",
       "    }\n",
       "\n",
       "    .dataframe tbody tr th {\n",
       "        vertical-align: top;\n",
       "    }\n",
       "\n",
       "    .dataframe thead th {\n",
       "        text-align: right;\n",
       "    }\n",
       "</style>\n",
       "<table border=\"1\" class=\"dataframe\">\n",
       "  <thead>\n",
       "    <tr style=\"text-align: right;\">\n",
       "      <th></th>\n",
       "      <th>balance</th>\n",
       "    </tr>\n",
       "    <tr>\n",
       "      <th>district_id</th>\n",
       "      <th></th>\n",
       "    </tr>\n",
       "  </thead>\n",
       "  <tbody>\n",
       "    <tr>\n",
       "      <th>1</th>\n",
       "      <td>23.561176</td>\n",
       "    </tr>\n",
       "    <tr>\n",
       "      <th>2</th>\n",
       "      <td>42.210566</td>\n",
       "    </tr>\n",
       "    <tr>\n",
       "      <th>3</th>\n",
       "      <td>16.806799</td>\n",
       "    </tr>\n",
       "    <tr>\n",
       "      <th>4</th>\n",
       "      <td>32.501366</td>\n",
       "    </tr>\n",
       "    <tr>\n",
       "      <th>5</th>\n",
       "      <td>3.752203</td>\n",
       "    </tr>\n",
       "    <tr>\n",
       "      <th>...</th>\n",
       "      <td>...</td>\n",
       "    </tr>\n",
       "    <tr>\n",
       "      <th>73</th>\n",
       "      <td>17.524397</td>\n",
       "    </tr>\n",
       "    <tr>\n",
       "      <th>74</th>\n",
       "      <td>10.129199</td>\n",
       "    </tr>\n",
       "    <tr>\n",
       "      <th>75</th>\n",
       "      <td>7.702035</td>\n",
       "    </tr>\n",
       "    <tr>\n",
       "      <th>76</th>\n",
       "      <td>37.634148</td>\n",
       "    </tr>\n",
       "    <tr>\n",
       "      <th>77</th>\n",
       "      <td>15.140603</td>\n",
       "    </tr>\n",
       "  </tbody>\n",
       "</table>\n",
       "<p>77 rows × 1 columns</p>\n",
       "</div>"
      ],
      "text/plain": [
       "               balance\n",
       "district_id           \n",
       "1            23.561176\n",
       "2            42.210566\n",
       "3            16.806799\n",
       "4            32.501366\n",
       "5             3.752203\n",
       "...                ...\n",
       "73           17.524397\n",
       "74           10.129199\n",
       "75            7.702035\n",
       "76           37.634148\n",
       "77           15.140603\n",
       "\n",
       "[77 rows x 1 columns]"
      ]
     },
     "execution_count": 3,
     "metadata": {},
     "output_type": "execute_result"
    }
   ],
   "source": [
    "accChangeToDemo(\"./desktop/utk/dse511/financial.db\")"
   ]
  },
  {
   "cell_type": "code",
   "execution_count": null,
   "metadata": {},
   "outputs": [],
   "source": []
  }
 ],
 "metadata": {
  "kernelspec": {
   "display_name": "Python 3",
   "language": "python",
   "name": "python3"
  },
  "language_info": {
   "codemirror_mode": {
    "name": "ipython",
    "version": 3
   },
   "file_extension": ".py",
   "mimetype": "text/x-python",
   "name": "python",
   "nbconvert_exporter": "python",
   "pygments_lexer": "ipython3",
   "version": "3.8.5"
  }
 },
 "nbformat": 4,
 "nbformat_minor": 4
}
